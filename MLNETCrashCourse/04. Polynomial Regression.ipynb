{
 "cells": [
  {
   "cell_type": "markdown",
   "metadata": {},
   "source": [
    "# Polynomial Regression (ML Task: Time series)\n",
    "\n",
    "Sometimes our data doesn't have a linear relationship, but we still want to predict an outcome.\n",
    "\n",
    "Suppose we want to predict how satisfied people might be with a piece of fruit, we would expect satisfaction would be low if the fruit was under ripened or over ripened. Satisfaction would be high in between under ripe and overripe.\n",
    "\n",
    "This is not something linear regression will help us with, so we can turn to polynomial regression to help us make predictions for these more complex non-linear relationships!"
   ]
  },
  {
   "cell_type": "code",
   "execution_count": null,
   "metadata": {},
   "outputs": [],
   "source": [
    "// ML.NET Nuget packages installation\n",
    "#r \"nuget:Microsoft.ML,1.4\"\n",
    "    \n",
    "//Install XPlot package\n",
    "#r \"nuget:XPlot.Plotly,2.0.0\"\n",
    "    \n",
    "using Microsoft.ML;\n",
    "using Microsoft.ML.Data;\n",
    "using XPlot.Plotly;"
   ]
  },
  {
   "cell_type": "markdown",
   "metadata": {},
   "source": [
    "## Step 2 - Storing the data\n",
    "\n",
    "First of all, you need to create a class suited to store the information you have. Once this is done, you can load structured information into this class and verify  it by showing the schema and some rows of the DataView."
   ]
  },
  {
   "cell_type": "code",
   "execution_count": null,
   "metadata": {},
   "outputs": [],
   "source": [
    "public class TrafficData\n",
    "{\n",
    "    [LoadColumn(0)]\n",
    "    [ColumnName(\"Time\")]\n",
    "    public float Time { get; set; }\n",
    "\n",
    "    [LoadColumn(1, 6)]\n",
    "    [VectorType(6)]\n",
    "    [ColumnName(\"HistoricalMeasures\")]\n",
    "    public float[] HistoricalMeasures { get; set; }\n",
    "\n",
    "    [LoadColumn(7)]\n",
    "    [ColumnName(\"Label\")]\n",
    "    public float AverageMeasure { get; set; }\n",
    "}\n",
    "\n",
    "public class TrafficPrediction\n",
    "{\n",
    "    [ColumnName(\"Score\")]\n",
    "    public float InternetTraffic { get; set; }\n",
    "}"
   ]
  },
  {
   "cell_type": "markdown",
   "metadata": {},
   "source": [
    "First we need to define the path of the data file that we are going to use in the exercises."
   ]
  },
  {
   "cell_type": "code",
   "execution_count": null,
   "metadata": {},
   "outputs": [],
   "source": [
    "string TrainDataPath = \"./Data/traffic_by_hour.csv\";"
   ]
  },
  {
   "cell_type": "markdown",
   "metadata": {},
   "source": [
    "The next step is to add the following code the create the MLContext and the TextLoader to read the training data, this is explained with more detail in the previous Linear Regression and Multiple Linear Regression excercises."
   ]
  },
  {
   "cell_type": "code",
   "execution_count": null,
   "metadata": {},
   "outputs": [],
   "source": [
    "MLContext mlContext = new MLContext(seed:0);\n",
    "IDataView dataView = mlContext.Data.LoadFromTextFile<TrafficData>(path: TrainDataPath, hasHeader: false, separatorChar:'\\t');\n",
    "\n",
    "display(dataView.Schema);"
   ]
  },
  {
   "cell_type": "markdown",
   "metadata": {},
   "source": [
    "Once again, we can also have a preview of the data stored in the IDataView structure."
   ]
  },
  {
   "cell_type": "markdown",
   "metadata": {},
   "source": [
    "In the cell below replace the text `<printDataHere>` with display(fewRows); and then press Run in the toolbar above (or press Shift+Enter)."
   ]
  },
  {
   "cell_type": "code",
   "execution_count": null,
   "metadata": {},
   "outputs": [],
   "source": [
    "public static List<TrafficData> Head(MLContext mlContext, IDataView dataView, int numberOfRows = 4)\n",
    "{\n",
    "    string msg = string.Format(\"DataView: Showing {0} rows with the columns\", numberOfRows.ToString());\n",
    "    display(msg);\n",
    "          \n",
    "    var rows = mlContext.Data.CreateEnumerable<TrafficData>(dataView, reuseRowObject: false)\n",
    "                    .Take(numberOfRows)\n",
    "                    .ToList();\n",
    "    \n",
    "    return rows;\n",
    "}\n",
    "\n",
    "display(h4(\"Showing a few rows from training DataView:\"));\n",
    "\n",
    "var fewRows = Head(mlContext, dataView, 24);\n",
    "\n",
    "/*\n",
    " REPLACE <PrintDataHere> WITH display(fewRows);\n",
    "*/\n",
    "<PrintDataHere>\n",
    "//"
   ]
  },
  {
   "cell_type": "markdown",
   "metadata": {},
   "source": [
    "Finally we are going split the loaded data in two parts: one dataset for training and another one for testing the model. Then we can use the IDataView method Preview to get a summary of the data and write it out to the console."
   ]
  },
  {
   "cell_type": "code",
   "execution_count": null,
   "metadata": {},
   "outputs": [],
   "source": [
    "var trainTestData = mlContext.Data.TrainTestSplit(dataView, testFraction: 0.2);\n",
    "IDataView trainDataView = trainTestData.TrainSet;\n",
    "IDataView testDataView = trainTestData.TestSet;\n",
    "\n",
    "Console.WriteLine($\"Training set preview: { trainDataView.Preview().ToString()}\");\n",
    "Console.WriteLine($\"Test set preview: { testDataView.Preview().ToString()}\");"
   ]
  },
  {
   "cell_type": "markdown",
   "metadata": {},
   "source": [
    "## Step 3 - Data Visualization: Mean values for each hour\n",
    "\n",
    "Let's see if we can draw out a clearer pattern by taking the average values for each hour."
   ]
  },
  {
   "cell_type": "code",
   "execution_count": null,
   "metadata": {},
   "outputs": [],
   "source": [
    "public class PlotChartPoint\n",
    "{\n",
    "    public double X { get; set; }\n",
    "\n",
    "    public double Y { get; set; }\n",
    "}"
   ]
  },
  {
   "cell_type": "markdown",
   "metadata": {},
   "source": [
    "Then, we'll create a function that define de point values mesauring the average of the data."
   ]
  },
  {
   "cell_type": "code",
   "execution_count": null,
   "metadata": {},
   "outputs": [],
   "source": [
    "public static IEnumerable<PlotChartPoint> GetAvgChartPointsFromData(IEnumerable<TrafficData> data)\n",
    "{\n",
    "    return data\n",
    "        .Select(x => new PlotChartPoint()\n",
    "        {\n",
    "            X = x.Time,\n",
    "            Y = x.AverageMeasure\n",
    "        });\n",
    "}"
   ]
  },
  {
   "cell_type": "markdown",
   "metadata": {},
   "source": [
    "Using this function to obtain the values and splitting them into one list per axis, we can plot a chart with their representation."
   ]
  },
  {
   "cell_type": "code",
   "execution_count": null,
   "metadata": {},
   "outputs": [],
   "source": [
    "// Get an array of the average data points\n",
    "var avgPoints = GetAvgChartPointsFromData(mlContext.Data.CreateEnumerable<TrafficData>(trainDataView, reuseRowObject: true));\n",
    "var avgX = avgPoints.Select(PlotChartPoint => PlotChartPoint.X);\n",
    "var avgY = avgPoints.Select(PlotChartPoint => PlotChartPoint.Y);"
   ]
  },
  {
   "cell_type": "markdown",
   "metadata": {},
   "source": [
    "Then, we set the chart and the layout options and display the result."
   ]
  },
  {
   "cell_type": "markdown",
   "metadata": {},
   "source": [
    "In the cell below replace the text `<printDataHere>` with display(chart); and then press Run in the toolbar above (or press Shift+Enter)."
   ]
  },
  {
   "cell_type": "code",
   "execution_count": null,
   "metadata": {},
   "outputs": [],
   "source": [
    "var chart = Chart.Plot(\n",
    "    new Graph.Scatter()\n",
    "    {\n",
    "        x = avgX,\n",
    "        y = avgY,\n",
    "        mode = \"markers\",\n",
    "        marker = new Graph.Marker()\n",
    "        {\n",
    "            color = avgY,\n",
    "            colorscale = \"Jet\"\n",
    "        }\n",
    "    }\n",
    ");\n",
    "\n",
    "var layout = new Layout.Layout(){title=\"Avg Internet Traffic on time\"};\n",
    "chart.WithLayout(layout);\n",
    "chart.WithXTitle(\"Time of the Day\");\n",
    "chart.WithYTitle(\"Average Traffic\");\n",
    "chart.WithLegend(true);\n",
    "chart.Width = 700;\n",
    "chart.Height = 500;\n",
    "chart.WithLegend(true);\n",
    "\n",
    "/*\n",
    " REPLACE <PrintDataHere> WITH display(chart);\n",
    "*/\n",
    "<PrintDataHere>\n",
    "//"
   ]
  },
  {
   "cell_type": "markdown",
   "metadata": {},
   "source": [
    "## Step 4 - Use a model to make a prediction\n",
    "\n",
    "Let's use the midpoints in between the hours to analyse the relationship between the time of day and the amount of internet traffic.\n",
    "\n",
    "We specify a feature 𝑥 (time of day) and our label 𝑦 (the amount of traffic)."
   ]
  },
  {
   "cell_type": "markdown",
   "metadata": {},
   "source": [
    "The first thing you will need to do is to create a pipeline. Polynomial regression is considered to be a special case of multiple linear regression, so in this case we are creating the pipeline using the PoissonRegression algorithm, the one we used for Multiple Linear Regression."
   ]
  },
  {
   "cell_type": "code",
   "execution_count": null,
   "metadata": {},
   "outputs": [],
   "source": [
    "// Create the pipeline\n",
    "var pipeline =\n",
    "    mlContext.Transforms.Concatenate(\"Features\", \"Time\", \"Label\")\n",
    "    .Append(mlContext.Regression.Trainers.LbfgsPoissonRegression());"
   ]
  },
  {
   "cell_type": "markdown",
   "metadata": {},
   "source": [
    "The next step is to train our model by passing our training data to the method Fit."
   ]
  },
  {
   "cell_type": "code",
   "execution_count": null,
   "metadata": {},
   "outputs": [],
   "source": [
    "// Train the model\n",
    "var model = pipeline.Fit(dataView);"
   ]
  },
  {
   "cell_type": "markdown",
   "metadata": {},
   "source": [
    "Now let's try using this model to make a prediction for a time between 00 and 24."
   ]
  },
  {
   "cell_type": "markdown",
   "metadata": {},
   "source": [
    "In the cell below replace the text `<HourHere>` with 12.5f"
   ]
  },
  {
   "cell_type": "code",
   "execution_count": null,
   "metadata": {},
   "outputs": [],
   "source": [
    "// Use the trained model to predict the internet traffic\n",
    "var predictionEngine = mlContext.Model.CreatePredictionEngine<TrafficData, TrafficPrediction>(model);\n",
    "\n",
    "// Features to include in the prediction\n",
    "/*\n",
    " REPLACE <HourHere> WITH \"Features\", \"weight\", \"cocoa_percent\", \"cost\"\n",
    "*/\n",
    "var time = 12.5f;\n",
    "//    \n",
    "// Specify the regression trainer\n",
    "\n",
    "\n",
    "//Obtain the prediction\n",
    "var prediction = predictionEngine.Predict(new TrafficData\n",
    "{\n",
    "    Time = time,\n",
    "    HistoricalMeasures = new float[] { 43.5f, 45.3f, 41.9f, 40.3f, 31.5f, 44.6f },\n",
    "    AverageMeasure = 41.18f\n",
    "});\n",
    "\n",
    "Console.WriteLine($\"At t={time}, predicted internet traffic is {prediction.InternetTraffic} Gbps.\");"
   ]
  },
  {
   "cell_type": "markdown",
   "metadata": {},
   "source": [
    "## Conclusion\n",
    "\n",
    "And there we have it! You have made a polynomial regression model and used it for analysis! This models gives us a prediction for the level of internet traffic we should expect to see at any given time of day."
   ]
  }
 ],
 "metadata": {
  "kernelspec": {
   "display_name": ".NET (C#)",
   "language": "C#",
   "name": ".net-csharp"
  },
  "language_info": {
   "file_extension": ".cs",
   "mimetype": "text/x-csharp",
   "name": "C#",
   "pygments_lexer": "csharp",
   "version": "8.0"
  }
 },
 "nbformat": 4,
 "nbformat_minor": 4
}
