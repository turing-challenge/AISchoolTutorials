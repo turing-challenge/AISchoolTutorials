{
 "cells": [
  {
   "cell_type": "markdown",
   "metadata": {},
   "source": [
    "# Multiple Linear Regression\n",
    "\n",
    "From the previous exercise, we know that customers are happier with chocolate bars that are large and have high amounts of cocoa. Customers may feel differently when they have to pay for these bars though.\n",
    "\n",
    "In this exercise, we will try to find the chocolate bar that best suits customers, taking into account the cocoa content, size, and price."
   ]
  },
  {
   "cell_type": "markdown",
   "metadata": {},
   "source": [
    "## Step 1 - Import NuGet packages\n",
    "\n",
    "Necessary NuGet packages can easily be imported to use it in a Jupyter Notebook using the following code. In this case we will need Microsot.ML and Xplot.Plotly for the graphics."
   ]
  },
  {
   "cell_type": "code",
   "execution_count": null,
   "metadata": {},
   "outputs": [],
   "source": [
    "// ML.NET Nuget packages installation\n",
    "#r \"nuget:Microsoft.ML,1.4\"\n",
    "    \n",
    "//Install XPlot package\n",
    "#r \"nuget:XPlot.Plotly,2.0.0\"\n",
    "\n",
    "using Microsoft.ML;\n",
    "using Microsoft.ML.Data;\n",
    "using XPlot.Plotly;"
   ]
  },
  {
   "cell_type": "markdown",
   "metadata": {},
   "source": [
    "## Step 2 - Storing the data\n",
    "\n",
    "First of all, you need to create a class suited to store the information you have. Once this is done, you can load structured information into this class and verify  it by showing the schema and some rows of the DataView."
   ]
  },
  {
   "cell_type": "code",
   "execution_count": null,
   "metadata": {},
   "outputs": [],
   "source": [
    "public class ChocolateInput\n",
    "{\n",
    "    [LoadColumn(0)]\n",
    "    public float weight;\n",
    "\n",
    "    [LoadColumn(1)]\n",
    "    public float cocoa_percent;\n",
    "\n",
    "    [LoadColumn(2)]\n",
    "    public float cost;\n",
    "\n",
    "    [LoadColumn(3)]\n",
    "    public float customer_happiness;\n",
    "\n",
    "}\n",
    "\n",
    "public class ChocolateOutput\n",
    "{\n",
    "    [ColumnName(\"Score\")]\n",
    "    public float CustomerHappiness { get; set; }\n",
    "}"
   ]
  },
  {
   "cell_type": "markdown",
   "metadata": {},
   "source": [
    "First we need to define the path of the data file that we are going to use in the exercises."
   ]
  },
  {
   "cell_type": "code",
   "execution_count": null,
   "metadata": {},
   "outputs": [],
   "source": [
    "string TrainDataPath = \"./Data/chocolate-data-multiple-linear-regression.txt\";"
   ]
  },
  {
   "cell_type": "markdown",
   "metadata": {},
   "source": [
    "The next step is to add the following code the create the MLContext and the TextLoader to read the training data, this is explained with more detail in the previous Linear Regression excercise."
   ]
  },
  {
   "cell_type": "code",
   "execution_count": null,
   "metadata": {},
   "outputs": [],
   "source": [
    "MLContext mlContext = new MLContext(seed:0);\n",
    "IDataView dataView = mlContext.Data.LoadFromTextFile<ChocolateInput>(path: TrainDataPath, hasHeader: true, separatorChar:'\\t');\n",
    "\n",
    "display(dataView.Schema);"
   ]
  },
  {
   "cell_type": "markdown",
   "metadata": {},
   "source": [
    "Once again, we can also have a preview of the data stored in the IDataView structure."
   ]
  },
  {
   "cell_type": "markdown",
   "metadata": {},
   "source": [
    "In the cell below replace the text `<printDataHere>` with display(fewRows); and then press Run in the toolbar above (or press Shift+Enter)."
   ]
  },
  {
   "cell_type": "code",
   "execution_count": null,
   "metadata": {},
   "outputs": [],
   "source": [
    "public static List<ChocolateInput> Head(MLContext mlContext, IDataView dataView, int numberOfRows = 4)\n",
    "{\n",
    "    string msg = string.Format(\"DataView: Showing {0} rows with the columns\", numberOfRows.ToString());\n",
    "    display(msg);\n",
    "          \n",
    "    var rows = mlContext.Data.CreateEnumerable<ChocolateInput>(dataView, reuseRowObject: false)\n",
    "                    .Take(numberOfRows)\n",
    "                    .ToList();\n",
    "    \n",
    "    return rows;\n",
    "}\n",
    "\n",
    "display(h4(\"Showing a few rows from training DataView:\"));\n",
    "\n",
    "var fewRows = Head(mlContext, dataView, 10);\n",
    "\n",
    "/*\n",
    " REPLACE <PrintDataHere> WITH display(fewRows);\n",
    "*/\n",
    "<PrintDataHere>\n",
    "//"
   ]
  },
  {
   "cell_type": "markdown",
   "metadata": {},
   "source": [
    "## Step 3 - Perform a simple linear regression\n",
    "\n",
    "Previously we found that customers like a high percentage of cocoa and heavier bars of chocolate. Large bars of chocolate cost more money, though, which might make customers less inclined to purchase them.\n",
    "\n",
    "Let's perform a simple linear regression to see the relationship between customer happiness and chocolate bar weight when the cost of the chocolate was taken into consideration for the survey."
   ]
  },
  {
   "cell_type": "markdown",
   "metadata": {},
   "source": [
    "The first thing you will need to do is to create a pipeline. In this case we are creating a pipeline using the PoissonRegression algorithm, which is a type of Linear regression. For this pipeline we'll only consider the Weight feature."
   ]
  },
  {
   "cell_type": "markdown",
   "metadata": {},
   "source": [
    "In the cell below replace the text `<ConcatenateHere>` with **\"Features\", \"weight\", \"cocoa_percent\", \"cost\"** and then press Run in the toolbar above (or press Shift+Enter)."
   ]
  },
  {
   "cell_type": "code",
   "execution_count": null,
   "metadata": {},
   "outputs": [],
   "source": [
    "var pipeline =\n",
    "// Features to include in the prediction\n",
    "/*\n",
    " REPLACE <ConcatenateHere> WITH \"Features\", \"weight\", \"cocoa_percent\", \"cost\"\n",
    "*/\n",
    "mlContext.Transforms.Concatenate(<ConcatenateHere>)\n",
    "//    \n",
    "// Specify the regression trainer\n",
    ".Append(mlContext.Regression.Trainers.LbfgsPoissonRegression(\"customer_happiness\"));"
   ]
  },
  {
   "cell_type": "markdown",
   "metadata": {},
   "source": [
    "The next step is to train our model by passing our training data to the method Fit."
   ]
  },
  {
   "cell_type": "code",
   "execution_count": null,
   "metadata": {},
   "outputs": [],
   "source": [
    "// Train the model\n",
    "var model = pipeline.Fit(dataView);"
   ]
  },
  {
   "cell_type": "markdown",
   "metadata": {},
   "source": [
    "The final step is to use the model to get a the regression coefficient and the slope. We will use these variables to build a graphic and have a better visualization of the data."
   ]
  },
  {
   "cell_type": "code",
   "execution_count": null,
   "metadata": {},
   "outputs": [],
   "source": [
    "// The model's feature weight coefficients\n",
    "var regressionModel = model.LastTransformer.Model;\n",
    "var weights = regressionModel.Weights;\n",
    "var intercept = regressionModel.Bias;\n",
    "Console.WriteLine($\"Coefficients: Weight={weights[0]:0.##}, CocoaPercent={weights[1]:0.##}, Cost={weights[2]:0.##}\");"
   ]
  },
  {
   "cell_type": "markdown",
   "metadata": {},
   "source": [
    "## Step 4 - Graphing prediction data\n",
    "\n",
    "We want to know which chocolate bar features make customers happy but taking the cost into account. Here we are going to generate a graph using the data at the training data."
   ]
  },
  {
   "cell_type": "markdown",
   "metadata": {},
   "source": [
    "First we need to extract the information we want to show into lists. Each of this list will represent the list of values for an axis of each of the elements on it."
   ]
  },
  {
   "cell_type": "code",
   "execution_count": null,
   "metadata": {},
   "outputs": [],
   "source": [
    "int numberOfRows = 1000;\n",
    "float[] weight = dataView.GetColumn<float>(\"weight\").Take(numberOfRows).ToArray();\n",
    "float[] cocoa_percent = dataView.GetColumn<float>(\"cocoa_percent\").Take(numberOfRows).ToArray();\n",
    "float[] customer_happiness = dataView.GetColumn<float>(\"customer_happiness\").Take(numberOfRows).ToArray();"
   ]
  },
  {
   "cell_type": "markdown",
   "metadata": {},
   "source": [
    "Then, we set the chart and the layout options and display the result."
   ]
  },
  {
   "cell_type": "markdown",
   "metadata": {},
   "source": [
    "In the cell below replace the text `<printDataHere>` with display(chart); and then press Run in the toolbar above (or press Shift+Enter)."
   ]
  },
  {
   "cell_type": "code",
   "execution_count": null,
   "metadata": {},
   "outputs": [],
   "source": [
    "// Plot Cocoa-Percent vs Customer Happiness\n",
    "\n",
    "var chart = Chart.Plot(\n",
    "    new Graph.Scatter()\n",
    "    {\n",
    "        x = cocoa_percent,\n",
    "        y = customer_happiness,\n",
    "        mode = \"markers\",\n",
    "        marker = new Graph.Marker()\n",
    "        {\n",
    "            color = customer_happiness,\n",
    "            colorscale = \"Jet\"\n",
    "        }\n",
    "    }\n",
    ");\n",
    "\n",
    "var layout = new Layout.Layout(){title=\"Cocoa Percent vs Customer Happiness\"};\n",
    "chart.WithLayout(layout);\n",
    "chart.WithXTitle(\"Cocoa Percent\");\n",
    "chart.WithYTitle(\"CustomerHappiness\");\n",
    "chart.WithLegend(true);\n",
    "chart.Width = 700;\n",
    "chart.Height = 500;\n",
    "chart.WithLegend(true);\n",
    "\n",
    "/*\n",
    " REPLACE <PrintDataHere> WITH display(chart);\n",
    "*/\n",
    "<PrintDataHere>\n",
    "//\n"
   ]
  },
  {
   "cell_type": "code",
   "execution_count": null,
   "metadata": {},
   "outputs": [],
   "source": []
  }
 ],
 "metadata": {
  "kernelspec": {
   "display_name": ".NET (C#)",
   "language": "C#",
   "name": ".net-csharp"
  },
  "language_info": {
   "file_extension": ".cs",
   "mimetype": "text/x-csharp",
   "name": "C#",
   "pygments_lexer": "csharp",
   "version": "8.0"
  }
 },
 "nbformat": 4,
 "nbformat_minor": 4
}
