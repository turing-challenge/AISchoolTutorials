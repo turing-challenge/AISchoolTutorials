{
 "cells": [
  {
   "cell_type": "markdown",
   "metadata": {},
   "source": [
    "# Linear Regression"
   ]
  },
  {
   "cell_type": "markdown",
   "metadata": {},
   "source": [
    "We want to know how to make our chocolate-bar customers happier. To do this, we need to know which chocolate bar features predict customer happiness. For example, customers may be happier when chocolate bars are bigger, or when they contain more cocoa.\n",
    "\n",
    "We have data on customer happiness when eating chocolate bars with different features. Lets look at the relationship between happiness and cocoa percentage."
   ]
  },
  {
   "cell_type": "markdown",
   "metadata": {},
   "source": [
    "## Step 1 - Import NuGet packages\n",
    "\n",
    "Necessary NuGet packages can easily be imported to use it in a Jupyter Notebook using the following code. In this case we will need Microsot.ML and Xplot.Plotly for the graphics."
   ]
  },
  {
   "cell_type": "code",
   "execution_count": null,
   "metadata": {},
   "outputs": [],
   "source": [
    "// ML.NET Nuget packages installation\n",
    "#r \"nuget:Microsoft.ML,1.4\"\n",
    "    \n",
    "//Install XPlot package\n",
    "#r \"nuget:XPlot.Plotly,2.0.0\"\n",
    "\n",
    "using Microsoft.ML;\n",
    "using Microsoft.ML.Data;\n",
    "using XPlot.Plotly;"
   ]
  },
  {
   "cell_type": "markdown",
   "metadata": {},
   "source": [
    "## Step 2 - Storing the data\n",
    "\n",
    "First of all, you need to create a class suited to store the information you have. Once this is done, you can load structured information into this class and verify  it by showing the schema and some rows of the DataView.\n"
   ]
  },
  {
   "cell_type": "code",
   "execution_count": null,
   "metadata": {},
   "outputs": [],
   "source": [
    "public class ChocolateInput\n",
    "{\n",
    "    [LoadColumn(0)]\n",
    "    public float weight;\n",
    "\n",
    "    [LoadColumn(1)]\n",
    "    public float cocoa_percent;\n",
    "\n",
    "    [LoadColumn(2)]\n",
    "    public float sugar_percent;\n",
    "\n",
    "    [LoadColumn(3)]\n",
    "    public float milk_percent;\n",
    "\n",
    "    [LoadColumn(4)]\n",
    "    public float customer_happiness;\n",
    "\n",
    "}\n",
    "\n",
    "public class ChocolateOutput\n",
    "{\n",
    "    [ColumnName(\"Score\")]\n",
    "    public float CustomerHappiness { get; set; }\n",
    "}\n"
   ]
  },
  {
   "cell_type": "markdown",
   "metadata": {},
   "source": [
    "First we need to define the path of the data file that we are going to use in the exercises.\n",
    "\n",
    "Then we add the following code to create the MLContext, which is the starting point of all ML.NET projects. It provides a mechanism to log, as well as the entry point for training, prediction, model operations and more.\n",
    "\n",
    "Let's load our data into a IDataView structure."
   ]
  },
  {
   "cell_type": "code",
   "execution_count": null,
   "metadata": {},
   "outputs": [],
   "source": [
    "string TrainDataPath = \"./Data/chocolate-data.txt\";\n",
    "\n",
    "MLContext mlContext = new MLContext(seed:0);\n",
    "IDataView dataView = mlContext.Data.LoadFromTextFile<ChocolateInput>(path: TrainDataPath, hasHeader: true, separatorChar:'\\t');\n",
    "\n",
    "display(dataView.Schema);"
   ]
  },
  {
   "cell_type": "markdown",
   "metadata": {},
   "source": [
    "We can also review the content of the data in this structure."
   ]
  },
  {
   "cell_type": "markdown",
   "metadata": {},
   "source": [
    "In the cell below replace the text `<printDataHere>` with display(fewRows); and then press Run in the toolbar above (or press Shift+Enter)."
   ]
  },
  {
   "cell_type": "code",
   "execution_count": null,
   "metadata": {},
   "outputs": [],
   "source": [
    "public static List<ChocolateInput> Head(MLContext mlContext, IDataView dataView, int numberOfRows = 4)\n",
    "{\n",
    "    string msg = string.Format(\"DataView: Showing {0} rows with the columns\", numberOfRows.ToString());\n",
    "    display(msg);\n",
    "          \n",
    "    var rows = mlContext.Data.CreateEnumerable<ChocolateInput>(dataView, reuseRowObject: false)\n",
    "                    .Take(numberOfRows)\n",
    "                    .ToList();\n",
    "    \n",
    "    return rows;\n",
    "}\n",
    "\n",
    "display(h4(\"Showing a few rows from training DataView:\"));\n",
    "\n",
    "var fewRows = Head(mlContext, dataView, 10);\n",
    "\n",
    "/*\n",
    " REPLACE <PrintDataHere> WITH display(fewRows);\n",
    "*/\n",
    "<PrintDataHere>\n",
    "//"
   ]
  },
  {
   "cell_type": "markdown",
   "metadata": {},
   "source": [
    "The data represents 100 different variations of chocolate bars and the measured customer happiness for each one."
   ]
  },
  {
   "cell_type": "markdown",
   "metadata": {},
   "source": [
    "## Step 3 - Building a model and running a prediction\n",
    "\n",
    "Now, we are going to be using the ML.NET regression trainer LbfgsPoissonRegression to train the model to make a prediction of customer happiness based on the cocoa percentage.\n",
    "\n",
    "The first thing you will need to do in any ML.NET project is to create a pipeline. The general idea here is that you create a 'chain' operations like data loading, transformations and model building together to create a 'pipeline'. In this case we are creating a pipeline using the LbfgsPoissonRegression algorithm, which is a type of Linear regression; we are concatenating our columns and then appending a PoissonRegression model to the end."
   ]
  },
  {
   "cell_type": "code",
   "execution_count": null,
   "metadata": {},
   "outputs": [],
   "source": [
    "var pipeline =\n",
    "// Specify the PoissonRegression regression trainer\n",
    "mlContext.Transforms.Concatenate(\"Features\", \"cocoa_percent\")\n",
    ".Append(mlContext.Regression.Trainers.LbfgsPoissonRegression(\"customer_happiness\"));"
   ]
  },
  {
   "cell_type": "markdown",
   "metadata": {},
   "source": [
    "The next step is to train our model by passing our training data to the method Fit."
   ]
  },
  {
   "cell_type": "code",
   "execution_count": null,
   "metadata": {},
   "outputs": [],
   "source": [
    "//Train the model\n",
    "var model = pipeline.Fit(dataView);"
   ]
  },
  {
   "cell_type": "markdown",
   "metadata": {},
   "source": [
    "The final step is to use the model to get a prediction. In this case we do this by calling the method CreatePredictionEngine to generate our final prediction engine. Then we can pass in a chocolateInput object with a cocoa percentage of 65 and see what the model predicts for customer happiness."
   ]
  },
  {
   "cell_type": "markdown",
   "metadata": {},
   "source": [
    "In the cell below replace the text `<CocoaPercent>` with 65"
   ]
  },
  {
   "cell_type": "code",
   "execution_count": null,
   "metadata": {},
   "outputs": [],
   "source": [
    "//Get the prediction\n",
    "// Use the trained model for one-time prediction\n",
    "var predictionEngine = mlContext.Model.CreatePredictionEngine<ChocolateInput, ChocolateOutput>(model);\n",
    "\n",
    "\n",
    "/*\n",
    " CHANGE  <CocoaPercent> 65;\n",
    "*/\n",
    "var prediction = predictionEngine.Predict(new ChocolateInput\n",
    "{\n",
    "    cocoa_percent =  <CocoaPercent>,\n",
    "});\n",
    "\n",
    "//\n",
    "// Obtain the prediction\n",
    "\n",
    "prediction"
   ]
  },
  {
   "cell_type": "markdown",
   "metadata": {},
   "source": [
    "## Step 4 - Graphing prediction data\n",
    "\n",
    "We want to know which chocolate bar features make customers happy. Here we are going to generate a graph using the data at the training data."
   ]
  },
  {
   "cell_type": "markdown",
   "metadata": {},
   "source": [
    "First we need to extract the information we want to show into lists. Each of this list will represent the list of values for an axis of each of the elements on it."
   ]
  },
  {
   "cell_type": "code",
   "execution_count": null,
   "metadata": {},
   "outputs": [],
   "source": [
    "int numberOfRows = 1000;\n",
    "float[] cocoa_percent = dataView.GetColumn<float>(\"cocoa_percent\").Take(numberOfRows).ToArray();\n",
    "float[] customer_happiness = dataView.GetColumn<float>(\"customer_happiness\").Take(numberOfRows).ToArray();"
   ]
  },
  {
   "cell_type": "markdown",
   "metadata": {},
   "source": [
    "Then, we set the chart and the layout options and display the result."
   ]
  },
  {
   "cell_type": "code",
   "execution_count": null,
   "metadata": {},
   "outputs": [],
   "source": [
    "// Plot Cocoa-Percent vs Customer Happiness\n",
    "\n",
    "var chart = Chart.Plot(\n",
    "    new Graph.Scatter()\n",
    "    {\n",
    "        x = cocoa_percent,\n",
    "        y = customer_happiness,\n",
    "        mode = \"markers\",\n",
    "        marker = new Graph.Marker()\n",
    "        {\n",
    "            color = customer_happiness,\n",
    "            colorscale = \"Jet\"\n",
    "        }\n",
    "    }\n",
    ");\n",
    "\n",
    "var layout = new Layout.Layout(){title=\"Cocoa Percent vs Customer Happiness\"};\n",
    "chart.WithLayout(layout);\n",
    "chart.WithXTitle(\"Cocoa Percent\");\n",
    "chart.WithYTitle(\"Customer Happiness\");\n",
    "chart.WithLegend(true);\n",
    "chart.Width = 700;\n",
    "chart.Height = 500;\n",
    "chart.WithLegend(true);\n",
    "\n",
    "display(chart);"
   ]
  },
  {
   "cell_type": "code",
   "execution_count": null,
   "metadata": {},
   "outputs": [],
   "source": []
  }
 ],
 "metadata": {
  "kernelspec": {
   "display_name": ".NET (C#)",
   "language": "C#",
   "name": ".net-csharp"
  },
  "language_info": {
   "file_extension": ".cs",
   "mimetype": "text/x-csharp",
   "name": "C#",
   "pygments_lexer": "csharp",
   "version": "8.0"
  }
 },
 "nbformat": 4,
 "nbformat_minor": 4
}
