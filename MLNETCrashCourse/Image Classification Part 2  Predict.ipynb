{
 "cells": [
  {
   "cell_type": "markdown",
   "metadata": {},
   "source": [
    "# Image Classification\n",
    "\n",
    "In case you want to try the original C# solution, you can find it in <a href=\"https://github.com/dotnet/machinelearning-samples/tree/master/samples/csharp/getting-started/DeepLearning_ImageClassification_Training\">this repository</a>.\n",
    "\n",
    "## Make a prediction\n",
    "\n",
    "Assuming we have done the previous process of training, we're now going to consume the model in order to obtain predictions."
   ]
  },
  {
   "cell_type": "markdown",
   "metadata": {},
   "source": [
    "## Step 1 - Import NuGet packages\n",
    "\n",
    "Necessary NuGet packages can easily be imported to use it in a Jupyter Notebook using the following code. \n",
    "In this case we'll also load some dll to import some auiliary functions."
   ]
  },
  {
   "cell_type": "code",
   "execution_count": null,
   "metadata": {},
   "outputs": [],
   "source": [
    "// ML.NET Nuget packages installation\n",
    "#r \"nuget:Microsoft.ML,1.4\"\n",
    "#r \"nuget:Microsoft.ML.Vision\"\n",
    "\n",
    "#r \"nuget:SciSharp.Tensorflow.Redist\"  "
   ]
  },
  {
   "cell_type": "code",
   "execution_count": null,
   "metadata": {},
   "outputs": [],
   "source": [
    "using System.IO;\n",
    "using Microsoft.ML;\n",
    "using Microsoft.ML.Data;"
   ]
  },
  {
   "cell_type": "markdown",
   "metadata": {},
   "source": [
    "We will need to define the output shape class for our predictions and for our image input data "
   ]
  },
  {
   "cell_type": "code",
   "execution_count": null,
   "metadata": {},
   "outputs": [],
   "source": [
    "public class ImagePrediction\n",
    "{\n",
    "    [ColumnName(\"Score\")]\n",
    "    public float[] Score;\n",
    "\n",
    "    [ColumnName(\"PredictedLabel\")]\n",
    "    public string PredictedLabel;\n",
    "}\n",
    "\n",
    "public class InMemoryImageData\n",
    "{\n",
    "    public InMemoryImageData(byte[] image, string label, string imageFileName)\n",
    "    {\n",
    "        Image = image;\n",
    "        Label = label;\n",
    "        ImageFileName = imageFileName;\n",
    "    }\n",
    "\n",
    "    public readonly byte[] Image;\n",
    "\n",
    "    public readonly string Label;\n",
    "\n",
    "    public readonly string ImageFileName;\n",
    "}"
   ]
  },
  {
   "cell_type": "markdown",
   "metadata": {},
   "source": [
    "We also define a helper class to load images from a Directory"
   ]
  },
  {
   "cell_type": "code",
   "execution_count": null,
   "metadata": {},
   "outputs": [],
   "source": [
    "using System.Collections.Generic;\n",
    "using System.IO;\n",
    "using System.Linq;\n",
    "using System.Reflection;\n",
    "\n",
    "public class FileUtils\n",
    "{\n",
    "    public static IEnumerable<(string imagePath, string label)> LoadImagesFromDirectory(\n",
    "        string folder,\n",
    "        bool useFolderNameasLabel)\n",
    "    {\n",
    "        var imagesPath = Directory\n",
    "            .GetFiles(folder, \"*\", searchOption: SearchOption.AllDirectories)\n",
    "            .Where(x => Path.GetExtension(x) == \".jpg\" || Path.GetExtension(x) == \".png\");\n",
    "\n",
    "        return useFolderNameasLabel\n",
    "            ? imagesPath.Select(imagePath => (imagePath, Directory.GetParent(imagePath).Name))\n",
    "            : imagesPath.Select(imagePath =>\n",
    "            {\n",
    "                var label = Path.GetFileName(imagePath);\n",
    "                for (var index = 0; index < label.Length; index++)\n",
    "                {\n",
    "                    if (!char.IsLetter(label[index]))\n",
    "                    {\n",
    "                        label = label.Substring(0, index);\n",
    "                        break;\n",
    "                    }\n",
    "                }\n",
    "                return (imagePath, label);\n",
    "            });\n",
    "    }\n",
    "\n",
    "    public static IEnumerable<InMemoryImageData> LoadInMemoryImagesFromDirectory(\n",
    "        string folder,\n",
    "        bool useFolderNameAsLabel = true)\n",
    "        => LoadImagesFromDirectory(folder, useFolderNameAsLabel)\n",
    "            .Select(x => new InMemoryImageData(\n",
    "                image: File.ReadAllBytes(x.imagePath),\n",
    "                label: x.label,\n",
    "                imageFileName: Path.GetFileName(x.imagePath)));\n",
    "\n",
    "    public static string GetAbsolutePath(Assembly assembly, string relativePath)\n",
    "    {\n",
    "        var assemblyFolderPath = new FileInfo(assembly.Location).Directory.FullName;\n",
    "\n",
    "        return Path.Combine(assemblyFolderPath, relativePath);\n",
    "    }\n",
    "}"
   ]
  },
  {
   "cell_type": "markdown",
   "metadata": {},
   "source": [
    "As berfore, we'll also store some paths for a more confortable handling of them"
   ]
  },
  {
   "cell_type": "code",
   "execution_count": null,
   "metadata": {},
   "outputs": [],
   "source": [
    "var imagesFolderPathForPredictions = Path.Combine(\"Data\", \"assets\", \"inputs\", \"images-for-predictions\");\n",
    "var imageClassifierModelZipFilePath = Path.Combine(\"Data\", \"assets\", \"outputs\", \"imageClassifer.zip\");"
   ]
  },
  {
   "cell_type": "markdown",
   "metadata": {},
   "source": [
    "## Step 2 - Scoring\n",
    "\n",
    "This process consist on loading your custom trained ML.NET model and performing a few sample predictions the same way a hypothetical end-user app could do.\n",
    "\n",
    "In regards the code, you first need to load the model created during model training app execution."
   ]
  },
  {
   "cell_type": "code",
   "execution_count": null,
   "metadata": {},
   "outputs": [],
   "source": [
    "var mlContext = new MLContext(seed: 1);\n",
    "\n",
    "Console.WriteLine($\"Loading model from: {imageClassifierModelZipFilePath}\");\n",
    "\n",
    "// Load the model\n",
    "var loadedModel = mlContext.Model.Load(imageClassifierModelZipFilePath, out var modelInputSchema);"
   ]
  },
  {
   "cell_type": "markdown",
   "metadata": {},
   "source": [
    "Then, your create a predictor engine object and finally make a few sample predictions by using the first image of the folder assets/inputs/images-for-predictions which has just a few images that were not used when training the model.\n",
    "\n",
    "Note that now, when scoring, you only need the InMemoryImageData type which has the in-memory image.\n",
    "\n",
    "That image could also be coming thorugh any other channel instead of loading it from a file. For instance, the ImageClassification.WebApp in this same solution gets the image to use for the prediction through HTTP as an image provided by an end-user."
   ]
  },
  {
   "cell_type": "code",
   "execution_count": null,
   "metadata": {},
   "outputs": [],
   "source": [
    "// Create prediction engine to try a single prediction (input = ImageData, output = ImagePrediction)\n",
    "var predictionEngine = mlContext.Model.CreatePredictionEngine<InMemoryImageData, ImagePrediction>(loadedModel);\n",
    "\n",
    "//Predict the first image in the folder\n",
    "var imagesToPredict = FileUtils.LoadInMemoryImagesFromDirectory(imagesFolderPathForPredictions, false);\n",
    "\n",
    "var imageToPredict = imagesToPredict.First();"
   ]
  },
  {
   "cell_type": "markdown",
   "metadata": {},
   "source": [
    "The prediction engine receives as parameter an object of type InMemoryImageData (containing 2 properties: Image and ImageFileName). The ImageFileName is not used byt the model. You simple have it there so you can print the filename out out when showing the prediction. The prediction is only using the image's bits in the byte[] Image field.\n",
    "\n",
    "Then the model returns and object of type ImagePrediction, which holds the PredictedLabel and all the Scores for all the classes/types of images.\n",
    "\n",
    "Since the PredictedLabel is already a string it'll be shown in the console. About the score for the predicted label, we just need to take the highest score which is the probability for the predicted label."
   ]
  },
  {
   "cell_type": "code",
   "execution_count": null,
   "metadata": {},
   "outputs": [],
   "source": [
    "// Measure #1 prediction execution time.\n",
    "var watch = System.Diagnostics.Stopwatch.StartNew();\n",
    "\n",
    "var prediction = predictionEngine.Predict(imageToPredict);\n",
    "\n",
    "// Stop measuring time.\n",
    "watch.Stop();\n",
    "var elapsedMs = watch.ElapsedMilliseconds;\n",
    "Console.WriteLine(\"First Prediction took: \" + elapsedMs + \"mlSecs\");\n",
    "\n",
    "// Measure #2 prediction execution time.\n",
    "var watch2 = System.Diagnostics.Stopwatch.StartNew();\n",
    "\n",
    "var prediction2 = predictionEngine.Predict(imageToPredict);\n",
    "\n",
    "// Stop measuring time.\n",
    "watch2.Stop();\n",
    "var elapsedMs2 = watch2.ElapsedMilliseconds;\n",
    "Console.WriteLine(\"Second Prediction took: \" + elapsedMs2 + \"mlSecs\");\n",
    "\n",
    "// Get the highest score and its index\n",
    "var maxScore = prediction.Score.Max();\n",
    "\n",
    "////////\n",
    "// Double-check using the index\n",
    "var maxIndex = prediction.Score.ToList().IndexOf(maxScore);\n",
    "VBuffer<ReadOnlyMemory<char>> keys = default;\n",
    "predictionEngine.OutputSchema[3].GetKeyValues(ref keys);\n",
    "var keysArray = keys.DenseValues().ToArray();\n",
    "var predictedLabelString = keysArray[maxIndex];\n",
    "////////\n",
    "\n",
    "Console.WriteLine($\"Image Filename : [{imageToPredict.ImageFileName}], \" +\n",
    "                  $\"Predicted Label : [{prediction.PredictedLabel}], \" +\n",
    "                  $\"Probability : [{maxScore}] \"\n",
    "                  );\n",
    "\n",
    "//Predict all images in the folder\n",
    "//\n",
    "Console.WriteLine(\"\");\n",
    "Console.WriteLine(\"Predicting several images...\");\n",
    "\n",
    "foreach (var currentImageToPredict in imagesToPredict)\n",
    "{\n",
    "    var currentPrediction = predictionEngine.Predict(currentImageToPredict);\n",
    "\n",
    "    Console.WriteLine(\n",
    "        $\"Image Filename : [{currentImageToPredict.ImageFileName}], \" +\n",
    "        $\"Predicted Label : [{currentPrediction.PredictedLabel}], \" +\n",
    "        $\"Probability : [{currentPrediction.Score.Max()}]\");\n",
    "}"
   ]
  },
  {
   "cell_type": "markdown",
   "metadata": {},
   "source": [
    "# TensorFlow DNN Transfer Learning background information\n",
    "\n",
    "This sample app is retraining a TensorFlow model for image classification. As a user, you could think it is pretty similar to this other sample <a href=\"https://github.com/dotnet/machinelearning-samples/tree/master/samples/csharp/getting-started/DeepLearning_TensorFlowEstimator\"> Image classifier using the TensorFlow Estimator featurizer</a>. However, the internal implementation is very different under the covers. In that mentioned sample, it is using a 'model composition approach' where an initial TensorFlow model (i.e. InceptionV3 or ResNet) is only used to featurize the images and produce the binary information per image to be used by another ML.NET classifier trainer added on top (such as LbfgsMaximumEntropy). Therefore, even when that sample is using a TensorFlow model, you are training only with a ML.NET trainer, you don't retrain a new TensorFlow model but train an ML.NET model. That's why the output of that sample is only an ML.NET model (.zip file).\n",
    "\n",
    "In contrast, this sample is natively retraining a new TensorFlow model based on a Transfer Learning approach but training a new TensorFlow model derived from the specified pre-trained model (Inception V3 or ResNet).\n",
    "\n",
    "The important difference is that this approach is internally retraining with TensorFlow APIs and creating a new TensorFlow model (.pb). Then, the ML.NET .zip file model you use is just like a wrapper around the new retrained TensorFlow model. This is why you can also see a new .pb file generated after training:"
   ]
  },
  {
   "cell_type": "markdown",
   "metadata": {},
   "source": [
    "<img src=\"https://user-images.githubusercontent.com/1712635/64131693-26fa7680-cd7f-11e9-8010-89c60b71fe11.png\">"
   ]
  },
  {
   "cell_type": "markdown",
   "metadata": {},
   "source": [
    "In the screenshot below you can see how you can see that retrained TensorFlow model (custom_retrained_model_based_on_InceptionV3.meta.pb) in <b>Netron</b>, since it is a native TensorFlow model:"
   ]
  },
  {
   "cell_type": "markdown",
   "metadata": {},
   "source": [
    "<img src=\"https://user-images.githubusercontent.com/1712635/64131904-9d4ba880-cd80-11e9-96a3-c2f936f8c5e0.png\">"
   ]
  },
  {
   "cell_type": "markdown",
   "metadata": {},
   "source": [
    "<b>Benefits</b>:\n",
    "<ul>\n",
    "<li><b>Train and inference using GPU:</b> When using this native DNN approach based on TensorFlow you can either use the CPU or GPU (if available) for a better performance (less time needed for training and scoring).\n",
    "<li><b>Reuse across multiple frameworks and platforms:</b> This ultimately means that since you natively trained a Tensorflow model, in addition to being able to run/consume that model with the ML.NET 'wrapper' model (.zip file), you could also take the .pb TensorFlow frozen model and run it on any other framework such as Python/Keras/TensorFlow, or a Java/Android app or any framework that supports TensorFlow.\n",
    "<li><b>Flexibility and performace:</b> Since ML.NET is internally retraining natively on Tensorflow layers, the ML.NET team will be able to optimize further and take multiple approaches like training on the last layer or training on multiple layers across the TensorFlow model and achive better quality levels.\n",
    "</ul>"
   ]
  }
 ],
 "metadata": {
  "kernelspec": {
   "display_name": ".NET (C#)",
   "language": "C#",
   "name": ".net-csharp"
  },
  "language_info": {
   "file_extension": ".cs",
   "mimetype": "text/x-csharp",
   "name": "C#",
   "pygments_lexer": "csharp",
   "version": "8.0"
  }
 },
 "nbformat": 4,
 "nbformat_minor": 4
}
