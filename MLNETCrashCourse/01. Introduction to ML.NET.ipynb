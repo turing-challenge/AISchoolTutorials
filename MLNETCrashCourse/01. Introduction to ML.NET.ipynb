{
 "cells": [
  {
   "cell_type": "markdown",
   "metadata": {},
   "source": [
    "# Introduction to ML.NET\n",
    "\n",
    "ML.NET is a machine learning framework built for .NET developers. Use your .NET and C# or F# skills to easily integrate custom machine learning into your applications without any prior expertise in developing or tuning machine learning models.\n",
    "\n",
    "This exercise will get you to setup your environment and give you an introduction to how the rest of the machine learning crash course in ML.NET will work."
   ]
  },
  {
   "cell_type": "markdown",
   "metadata": {},
   "source": [
    "## Getting started exercise\n",
    "\n",
    "Below are the instructions on how to get up and running on this project directly in this Jupyter Notebook. Just remember you can run each cell both with the run options or by pressing Shift + Enter ."
   ]
  },
  {
   "cell_type": "markdown",
   "metadata": {},
   "source": [
    "## Step 1 - Import NuGet packages\n",
    "\n",
    "Necessary NuGet packages can easily be imported to use it in a Jupyter Notebook using the following code. In this case we will need Microsot.ML."
   ]
  },
  {
   "cell_type": "code",
   "execution_count": null,
   "metadata": {},
   "outputs": [],
   "source": [
    "// ML.NET Nuget packages installation\n",
    "#r \"nuget:Microsoft.ML,1.4\"\n",
    "    \n",
    "using Microsoft.ML;\n",
    "using Microsoft.ML.Data;"
   ]
  },
  {
   "cell_type": "markdown",
   "metadata": {},
   "source": [
    "## Step 2 - Storing the data\n",
    "\n",
    "First of all, you need to create a class suited to store the information you have."
   ]
  },
  {
   "cell_type": "code",
   "execution_count": null,
   "metadata": {},
   "outputs": [],
   "source": [
    "public class ChocolateData\n",
    "{\n",
    "    [LoadColumn(0)]\n",
    "    public int Weight;\n",
    "\n",
    "    [LoadColumn(1)]\n",
    "    public int CocoaPercent;\n",
    "\n",
    "    [LoadColumn(2)]\n",
    "    public int SugarPercent;\n",
    "\n",
    "    [LoadColumn(3)]\n",
    "    public int MilkPercent;\n",
    "\n",
    "    [LoadColumn(4)]\n",
    "    public int CustomerHappiness;\n",
    "}"
   ]
  },
  {
   "cell_type": "markdown",
   "metadata": {},
   "source": [
    "Once we have it, we need to load the information into it. The schema of the DataView should match the structure of the previous class."
   ]
  },
  {
   "cell_type": "markdown",
   "metadata": {},
   "source": [
    "In the cell below replace the text `<printDataHere>` with display(trainDataView.Schema) and then press Run in the toolbar above (or press Shift+Enter)."
   ]
  },
  {
   "cell_type": "code",
   "execution_count": null,
   "metadata": {},
   "outputs": [],
   "source": [
    "string TrainDataPath = \"./Data/chocolate-data.txt\";\n",
    "\n",
    "MLContext mlContext = new MLContext(seed:0);\n",
    "IDataView trainDataView = mlContext.Data.LoadFromTextFile<ChocolateData>(path: TrainDataPath, hasHeader: true, separatorChar:'\\t');\n",
    "\n",
    "/*\n",
    "    REPLACE <PrintDataHere> WITH display(trainDataView.Schema);\n",
    "*/\n",
    "<PrintDataHere>\n",
    "//\n"
   ]
  },
  {
   "cell_type": "markdown",
   "metadata": {},
   "source": [
    "It is also possible to show what it's inside the DataView"
   ]
  },
  {
   "cell_type": "markdown",
   "metadata": {},
   "source": [
    "In the cell below replace the text `<printDataHere>` with display(fewRows);"
   ]
  },
  {
   "cell_type": "code",
   "execution_count": null,
   "metadata": {},
   "outputs": [],
   "source": [
    "public static List<ChocolateData> Head(MLContext mlContext, IDataView dataView, int numberOfRows = 4)\n",
    "{\n",
    "    string msg = string.Format(\"DataView: Showing {0} rows with the columns\", numberOfRows.ToString());\n",
    "    display(msg);\n",
    "          \n",
    "    var rows = mlContext.Data.CreateEnumerable<ChocolateData>(dataView, reuseRowObject: false)\n",
    "                    .Take(numberOfRows)\n",
    "                    .ToList();\n",
    "    \n",
    "    return rows;\n",
    "}\n",
    "\n",
    "display(h4(\"Showing a few rows from training DataView:\"));\n",
    "\n",
    "var fewRows = Head(mlContext, trainDataView, 10);\n",
    "/*\n",
    "    REPLACE <PrintDataHere> WITH display(trainDataView.Schema);\n",
    "*/\n",
    "<PrintDataHere>\n",
    "//"
   ]
  },
  {
   "cell_type": "markdown",
   "metadata": {},
   "source": [
    "Most of this columns are quite self-explanatory, but it's worth to mention that in this case the customer_happiness column acts as label, meaning it's the target value we're training to preddict with the information provided by the others. This will be shown in the following exercises"
   ]
  },
  {
   "cell_type": "code",
   "execution_count": null,
   "metadata": {},
   "outputs": [],
   "source": []
  }
 ],
 "metadata": {
  "kernelspec": {
   "display_name": ".NET (C#)",
   "language": "C#",
   "name": ".net-csharp"
  },
  "language_info": {
   "file_extension": ".cs",
   "mimetype": "text/x-csharp",
   "name": "C#",
   "pygments_lexer": "csharp",
   "version": "8.0"
  }
 },
 "nbformat": 4,
 "nbformat_minor": 4
}
