{
 "cells": [
  {
   "cell_type": "markdown",
   "metadata": {},
   "source": [
    "# Support Vector Machines\n",
    "\n",
    "Support vector machines (SVMs) let us predict categories. This exercise will demonstrate a simple support vector machine that can predict a category from a small number of features.\n",
    "\n",
    "Our problem is that we want to be able to categorise which type of tree an new specimen belongs to. To do this, we will use features of three different types of trees to train an SVM."
   ]
  },
  {
   "cell_type": "markdown",
   "metadata": {},
   "source": [
    "## Step 1 - Import NuGet packages\n",
    "\n",
    "Necessary NuGet packages can easily be imported to use it in a Jupyter Notebook using the following code. In this case we will need Microsot.ML and Xplot.Plotly for the graphics."
   ]
  },
  {
   "cell_type": "code",
   "execution_count": 1,
   "metadata": {},
   "outputs": [
    {
     "data": {
      "text/html": [
       "Installing package Microsoft.ML, version 1.4.............................done!"
      ]
     },
     "metadata": {},
     "output_type": "display_data"
    },
    {
     "data": {
      "text/html": [
       "Successfully added reference to package Microsoft.ML, version "
      ]
     },
     "metadata": {},
     "output_type": "display_data"
    },
    {
     "data": {
      "text/html": [
       "Installing package XPlot.Plotly, version 2.0.0....done!"
      ]
     },
     "metadata": {},
     "output_type": "display_data"
    },
    {
     "data": {
      "text/html": [
       "Successfully added reference to package XPlot.Plotly, version "
      ]
     },
     "metadata": {},
     "output_type": "display_data"
    }
   ],
   "source": [
    "// ML.NET Nuget packages installation\n",
    "#r \"nuget:Microsoft.ML,1.4\"\n",
    "    \n",
    "//Install XPlot package\n",
    "#r \"nuget:XPlot.Plotly,2.0.0\"\n",
    "\n",
    "using Microsoft.ML;\n",
    "using Microsoft.ML.Data;\n",
    "using XPlot.Plotly;"
   ]
  },
  {
   "cell_type": "markdown",
   "metadata": {},
   "source": [
    "## Step 2 - Storing and Visualizing the data\n",
    "\n",
    "First of all, you need to create a class suited to store the information you have. Once this is done, you can load structured information into this class and verify  it by showing the schema and some rows of the DataView."
   ]
  },
  {
   "cell_type": "code",
   "execution_count": 2,
   "metadata": {},
   "outputs": [],
   "source": [
    "public class TreeInput\n",
    "{\n",
    "    [LoadColumn(0)]\n",
    "    [ColumnName(\"LeafWidth\")]\n",
    "    public float LeafWidth { get; set; } \n",
    "\n",
    "    [LoadColumn(1)]\n",
    "    [ColumnName(\"LeafLength\")]\n",
    "    public float LeafLength { get; set; }\n",
    "\n",
    "    [LoadColumn(2)]\n",
    "    [ColumnName(\"TrunkGirth\")]\n",
    "    public float TrunkGirth { get; set; }\n",
    "\n",
    "    [LoadColumn(3)]\n",
    "    [ColumnName(\"TrunkHeight\")]\n",
    "    public float TrunkHeight { get; set; }\n",
    "\n",
    "    [LoadColumn(4)]\n",
    "    [ColumnName(\"Label\")]\n",
    "    public bool Label { get; set; }\n",
    "}\n",
    "\n",
    "public class TreeOutput\n",
    "{\n",
    "    [ColumnName(\"PredictedLabel\")]\n",
    "    public bool TreeType { get; set; }\n",
    "    public float Score { get; set; }\n",
    "    public float Probability { get; set; }\n",
    "}"
   ]
  },
  {
   "cell_type": "markdown",
   "metadata": {},
   "source": [
    "First we need to define the path of the data file that we are going to use in the exercises."
   ]
  },
  {
   "cell_type": "code",
   "execution_count": 3,
   "metadata": {},
   "outputs": [],
   "source": [
    "string TrainDataPath = \"./Data/trees.txt\";"
   ]
  },
  {
   "cell_type": "markdown",
   "metadata": {},
   "source": [
    "The next step is to add the following code the create the MLContext and the TextLoader to read the training data, as done in the previous excercises."
   ]
  },
  {
   "cell_type": "code",
   "execution_count": 4,
   "metadata": {},
   "outputs": [
    {
     "data": {
      "text/html": [
       "<table><thead><tr><th><i>index</i></th><th>Name</th><th>Index</th><th>IsHidden</th><th>Type</th><th>Annotations</th></tr></thead><tbody><tr><td>0</td><td>LeafWidth</td><td>0</td><td>False</td><td>{ Microsoft.ML.Data.NumberDataViewType: RawType: System.Single }</td><td>{ Microsoft.ML.DataViewSchema+Annotations: Schema: [  ] }</td></tr><tr><td>1</td><td>LeafLength</td><td>1</td><td>False</td><td>{ Microsoft.ML.Data.NumberDataViewType: RawType: System.Single }</td><td>{ Microsoft.ML.DataViewSchema+Annotations: Schema: [  ] }</td></tr><tr><td>2</td><td>TrunkGirth</td><td>2</td><td>False</td><td>{ Microsoft.ML.Data.NumberDataViewType: RawType: System.Single }</td><td>{ Microsoft.ML.DataViewSchema+Annotations: Schema: [  ] }</td></tr><tr><td>3</td><td>TrunkHeight</td><td>3</td><td>False</td><td>{ Microsoft.ML.Data.NumberDataViewType: RawType: System.Single }</td><td>{ Microsoft.ML.DataViewSchema+Annotations: Schema: [  ] }</td></tr><tr><td>4</td><td>Label</td><td>4</td><td>False</td><td>{ Microsoft.ML.Data.BooleanDataViewType: RawType: System.Boolean }</td><td>{ Microsoft.ML.DataViewSchema+Annotations: Schema: [  ] }</td></tr></tbody></table>"
      ]
     },
     "metadata": {},
     "output_type": "display_data"
    }
   ],
   "source": [
    "MLContext mlContext = new MLContext(seed:0);\n",
    "IDataView dataView = mlContext.Data.LoadFromTextFile<TreeInput>(path: TrainDataPath, hasHeader: true, separatorChar:'\\t');\n",
    "\n",
    "display(dataView.Schema);"
   ]
  },
  {
   "cell_type": "markdown",
   "metadata": {},
   "source": [
    "Once again, we can also have a preview of the data stored in the IDataView structure."
   ]
  },
  {
   "cell_type": "markdown",
   "metadata": {},
   "source": [
    "In the cell below replace the text `<printDataHere>` with display(fewRows);"
   ]
  },
  {
   "cell_type": "code",
   "execution_count": 5,
   "metadata": {},
   "outputs": [
    {
     "data": {
      "text/html": [
       "<h4>Showing a few rows from training DataView:</h4>"
      ]
     },
     "metadata": {},
     "output_type": "display_data"
    },
    {
     "data": {
      "text/plain": [
       "DataView: Showing 10 rows with the columns"
      ]
     },
     "metadata": {},
     "output_type": "display_data"
    },
    {
     "data": {
      "text/html": [
       "<table><thead><tr><th><i>index</i></th><th>LeafWidth</th><th>LeafLength</th><th>TrunkGirth</th><th>TrunkHeight</th><th>Label</th></tr></thead><tbody><tr><td>0</td><td>5.13</td><td>6.18</td><td>8.26</td><td>8.74</td><td>False</td></tr><tr><td>1</td><td>7.49</td><td>4.02</td><td>8.07</td><td>6.78</td><td>False</td></tr><tr><td>2</td><td>9.22</td><td>4.16</td><td>5.46</td><td>8.45</td><td>True</td></tr><tr><td>3</td><td>3.46</td><td>5.19</td><td>8.72</td><td>10.4</td><td>False</td></tr><tr><td>4</td><td>4.55</td><td>5.15</td><td>9.01</td><td>9.64</td><td>False</td></tr><tr><td>5</td><td>7.64</td><td>2.58</td><td>9.73</td><td>7.75</td><td>False</td></tr><tr><td>6</td><td>8.69</td><td>4.35</td><td>4.37</td><td>8.82</td><td>True</td></tr><tr><td>7</td><td>7.21</td><td>3.62</td><td>8.71</td><td>7.43</td><td>False</td></tr><tr><td>8</td><td>8.52</td><td>3.67</td><td>5.99</td><td>9.7</td><td>True</td></tr><tr><td>9</td><td>6.61</td><td>5.29</td><td>6.8</td><td>6.07</td><td>False</td></tr></tbody></table>"
      ]
     },
     "metadata": {},
     "output_type": "display_data"
    }
   ],
   "source": [
    "public static List<TreeInput> Head(MLContext mlContext, IDataView dataView, int numberOfRows = 4)\n",
    "{\n",
    "    string msg = string.Format(\"DataView: Showing {0} rows with the columns\", numberOfRows.ToString());\n",
    "    display(msg);\n",
    "          \n",
    "    var rows = mlContext.Data.CreateEnumerable<TreeInput>(dataView, reuseRowObject: false)\n",
    "                    .Take(numberOfRows)\n",
    "                    .ToList();\n",
    "    \n",
    "    return rows;\n",
    "}\n",
    "\n",
    "display(h4(\"Showing a few rows from training DataView:\"));\n",
    "\n",
    "var fewRows = Head(mlContext, dataView, 10);\n",
    "\n",
    "/*\n",
    " REPLACE <PrintDataHere> WITH display(fewRows);\n",
    "*/\n",
    "<PrintDataHere>\n",
    "//"
   ]
  },
  {
   "cell_type": "markdown",
   "metadata": {},
   "source": [
    "To get the chart of this data, first we need to extract the information we want to show into lists. Each of this list will represent the list of values for an axis of each of the elements on it."
   ]
  },
  {
   "cell_type": "code",
   "execution_count": 6,
   "metadata": {},
   "outputs": [],
   "source": [
    "int numberOfRows = 150;\n",
    "float[] leaf_width = dataView.GetColumn<float>(\"LeafWidth\").Take(numberOfRows).ToArray();\n",
    "float[] leaf_length= dataView.GetColumn<float>(\"LeafLength\").Take(numberOfRows).ToArray();\n",
    "float[] trunk_girth = dataView.GetColumn<float>(\"TrunkGirth\").Take(numberOfRows).ToArray();\n",
    "float[] trunk_height = dataView.GetColumn<float>(\"TrunkHeight\").Take(numberOfRows).ToArray();\n",
    "bool[] label = dataView.GetColumn<bool>(\"Label\").Take(numberOfRows).ToArray();"
   ]
  },
  {
   "cell_type": "markdown",
   "metadata": {},
   "source": [
    "In this case we want to not only represent the data by it's values in a two dimensional axis, but also by class. To do this, we will split the data by class into different lists."
   ]
  },
  {
   "cell_type": "code",
   "execution_count": 7,
   "metadata": {},
   "outputs": [],
   "source": [
    "List<float> leaf_width0 = new List<float>();\n",
    "List<float> leaf_width1 = new List<float>();\n",
    "List<float> leaf_length0 = new List<float>();\n",
    "List<float> leaf_length1 = new List<float>();\n",
    "List<float> trunk_girth0 = new List<float>();\n",
    "List<float> trunk_girth1 = new List<float>();\n",
    "List<float> trunk_height0 = new List<float>();\n",
    "List<float> trunk_height1 = new List<float>();\n",
    "\n",
    "for (int i=0; i<label.Length; i++)\n",
    "{\n",
    "    if (label[i] == false)\n",
    "    {\n",
    "        leaf_width0.Add(leaf_width[i]);\n",
    "        leaf_length0.Add(leaf_length[i]);\n",
    "        trunk_girth0.Add(trunk_girth[i]);\n",
    "        trunk_height0.Add(trunk_height[i]);  \n",
    "    }\n",
    "    else\n",
    "    {\n",
    "        leaf_width1.Add(leaf_width[i]);\n",
    "        leaf_length1.Add(leaf_length[i]);\n",
    "        trunk_girth1.Add(trunk_girth[i]);\n",
    "        trunk_height1.Add(trunk_height[i]);\n",
    "    }\n",
    "}"
   ]
  },
  {
   "cell_type": "markdown",
   "metadata": {},
   "source": [
    "Once the previous function is done, we can represent each class in a different chart and then combine them into a single chart. The both charts below represent the different leaf and trunk features by class."
   ]
  },
  {
   "cell_type": "markdown",
   "metadata": {},
   "source": [
    "In the cell below replace the text `<printDataHere>` with display(lchart);"
   ]
  },
  {
   "cell_type": "code",
   "execution_count": 8,
   "metadata": {},
   "outputs": [
    {
     "data": {
      "text/html": [
       "<div id=\"f157a129-2a62-41b6-b482-cec031c6f779\" style=\"width: 700px; height: 500px;\"></div><script type=\"text/javascript\">\r\n",
       "\r\n",
       "var renderPlotly = function() {\r\n",
       "    var xplotRequire = requirejs.config({context:'xplot-2.0.0',paths:{plotly:'https://cdn.plot.ly/plotly-1.49.2.min'}});\r\n",
       "    xplotRequire(['plotly'], function(Plotly) {\r\n",
       "\n",
       "            var data = [{\"type\":\"scatter\",\"x\":[5.13,7.49,3.46,4.55,7.64,7.21,6.61,5.7,3.31,6.5,6.07,4.12,5.1,4.7,3.01,5.56,3.67,3.64,5.84,5.41,2.06,5.27,4.31,7.48,5.75,3.97,5.51,4.37,6.72,6.23,4.66,6.9,7.07,4.53,3.79,4.26,4.22,5.94,5.0,5.46,5.55,2.83,4.18,5.92,5.08,5.19,5.85,5.46,3.57,8.8,5.65,4.66,5.47,4.93,6.6,4.93,7.09,4.17,6.18,5.0,4.6,5.21,2.84,2.65,4.1,4.67,4.99,6.45],\"y\":[6.18,4.02,5.19,5.15,2.58,3.62,5.29,5.08,5.46,4.39,3.81,7.14,5.86,6.18,5.78,4.63,5.17,6.14,4.81,5.81,6.52,4.25,5.11,5.17,4.78,6.25,4.12,6.64,5.02,4.27,5.47,3.11,3.58,5.58,5.93,5.84,5.76,4.02,5.62,4.58,8.15,5.99,5.0,4.94,5.57,4.69,4.81,5.08,5.34,3.99,4.48,4.64,4.77,4.6,4.28,5.33,4.09,6.11,3.63,5.1,4.18,5.61,5.86,6.69,4.38,4.25,4.47,3.04],\"mode\":\"markers\",\"marker\":{\"color\":\"blue\"},\"name\":\"Class 0\"},{\"type\":\"scatter\",\"x\":[9.22,8.69,8.52,8.15,9.31,8.78,9.01,10.1,8.92,10.0,11.0,8.12,10.1,9.2,8.63,10.6,9.01,8.53,9.4,10.3,10.1,10.1,7.67,9.05,9.61,7.7,10.2,8.47,7.81,8.01,9.27,9.69,6.85,10.1,8.21,9.67,10.8,10.1,9.31,8.75,10.4,8.67,8.44,9.27,10.4,10.7,7.84,9.02,9.15,9.13,6.95,9.51,9.85,8.54,7.36,8.68,7.85,5.26,9.5,9.74,9.68,9.65,8.94,9.15,8.65,8.39,9.58],\"y\":[4.16,4.35,3.67,5.08,5.18,4.35,7.84,5.94,5.78,8.15,4.56,5.01,5.55,7.27,5.95,7.05,3.8,4.52,5.34,3.09,5.69,5.4,5.31,7.22,6.4,4.67,5.59,3.43,3.76,4.2,4.56,3.71,1.11,3.93,4.32,5.02,5.49,5.75,5.24,4.16,4.94,2.93,4.18,5.37,5.92,5.35,4.19,3.42,2.81,3.6,3.95,4.21,6.31,5.68,7.37,3.93,4.84,5.68,7.24,5.23,6.63,6.07,4.19,4.52,5.83,2.96,4.53],\"mode\":\"markers\",\"marker\":{\"color\":\"red\"},\"name\":\"Class1\"}];\n",
       "            var layout = {\"title\":\"Leaf features\",\"showlegend\":true,\"xaxis\":{\"title\":\"Leaf Width\",\"_isSubplotObj\":true},\"yaxis\":{\"title\":\"Leaf Length\",\"_isSubplotObj\":true}};\n",
       "            Plotly.newPlot('f157a129-2a62-41b6-b482-cec031c6f779', data, layout);\n",
       "        });\r\n",
       "};\r\n",
       "if ((typeof(requirejs) !==  typeof(Function)) || (typeof(requirejs.config) !== typeof(Function))) { \r\n",
       "    var script = document.createElement(\"script\"); \r\n",
       "    script.setAttribute(\"src\", \"https://cdnjs.cloudflare.com/ajax/libs/require.js/2.3.6/require.min.js\"); \r\n",
       "    script.onload = function(){\r\n",
       "        renderPlotly();\r\n",
       "    };\r\n",
       "    document.getElementsByTagName(\"head\")[0].appendChild(script); \r\n",
       "}\r\n",
       "else {\r\n",
       "    renderPlotly();\r\n",
       "}\r\n",
       "</script>"
      ]
     },
     "metadata": {},
     "output_type": "display_data"
    }
   ],
   "source": [
    "var lchart1 = new Graph.Scatter()\n",
    "    {\n",
    "        x = leaf_width0,\n",
    "        y = leaf_length0,\n",
    "        mode = \"markers\",\n",
    "        marker = new Graph.Marker()\n",
    "        {\n",
    "            color = \"blue\",\n",
    "        }\n",
    "    };\n",
    "\n",
    "var lchart2 = new Graph.Scatter()\n",
    "    {\n",
    "        x = leaf_width1,\n",
    "        y = leaf_length1,\n",
    "        mode = \"markers\",\n",
    "        marker = new Graph.Marker()\n",
    "        {\n",
    "            color = \"red\",\n",
    "        }\n",
    "    };\n",
    "\n",
    "var lchart = Chart.Plot(new[] {lchart1, lchart2});\n",
    "\n",
    "var layout = new Layout.Layout(){title=\"Leaf features\"};\n",
    "lchart.WithLayout(layout);\n",
    "lchart.WithXTitle(\"Leaf Width\");\n",
    "lchart.WithYTitle(\"Leaf Length\");\n",
    "lchart.WithLegend(true);\n",
    "lchart.WithLabels(new[]{\"Class 0\", \"Class1\"});\n",
    "lchart.Width = 700;\n",
    "lchart.Height = 500;\n",
    "lchart.WithLegend(true);\n",
    "\n",
    "\n",
    "/*\n",
    " REPLACE <PrintDataHere> WITH display(lchart);\n",
    "*/\n",
    "<PrintDataHere>\n",
    "//"
   ]
  },
  {
   "cell_type": "markdown",
   "metadata": {},
   "source": [
    "In the cell below replace the text `<printDataHere>` with display(tchart);"
   ]
  },
  {
   "cell_type": "code",
   "execution_count": 9,
   "metadata": {},
   "outputs": [
    {
     "data": {
      "text/html": [
       "<div id=\"5ab60bbf-684a-4e6d-a27d-3b04ef66f871\" style=\"width: 700px; height: 500px;\"></div><script type=\"text/javascript\">\r\n",
       "\r\n",
       "var renderPlotly = function() {\r\n",
       "    var xplotRequire = requirejs.config({context:'xplot-2.0.0',paths:{plotly:'https://cdn.plot.ly/plotly-1.49.2.min'}});\r\n",
       "    xplotRequire(['plotly'], function(Plotly) {\r\n",
       "\n",
       "            var data = [{\"type\":\"scatter\",\"x\":[8.26,8.07,8.72,9.01,9.73,8.71,6.8,8.3,9.85,9.15,9.77,7.83,8.55,9.26,9.61,9.24,9.34,8.99,8.86,7.48,9.68,8.19,10.9,7.65,8.19,7.1,10.1,7.7,7.74,8.95,9.49,8.5,8.95,9.38,8.36,9.39,9.2,8.4,7.93,10.8,3.5,8.54,8.57,7.95,7.69,9.93,8.57,8.39,10.4,4.87,9.2,10.3,9.05,9.49,8.3,9.11,8.47,8.44,8.39,8.64,9.99,8.09,9.53,9.18,10.5,10.2,9.17,9.37],\"y\":[8.74,6.78,10.4,9.64,7.75,7.43,6.07,8.1,10.4,8.29,9.44,8.16,8.37,8.09,10.6,9.44,9.81,9.09,8.05,7.84,10.4,9.16,10.6,6.13,8.02,8.14,9.38,7.72,7.16,7.94,9.13,7.86,7.79,9.35,8.99,9.95,10.0,8.65,8.02,10.2,5.31,9.73,9.3,8.02,8.07,9.36,7.75,8.13,10.3,8.84,8.85,9.59,8.35,9.21,7.75,8.55,6.88,9.02,8.83,9.12,9.71,8.01,10.7,10.7,11.0,9.46,9.66,8.89],\"mode\":\"markers\",\"marker\":{\"color\":\"blue\"},\"name\":\"Class 0\"},{\"type\":\"scatter\",\"x\":[5.46,4.37,5.99,5.43,5.66,4.44,3.1,6.45,5.08,4.89,7.22,2.81,5.15,4.76,4.65,5.37,4.98,5.02,5.26,6.88,4.99,5.75,3.3,3.8,4.47,3.81,5.44,4.63,3.88,3.12,5.31,6.06,4.48,7.03,5.2,7.91,7.08,6.46,6.48,4.94,6.81,6.75,4.45,6.06,6.91,7.17,4.32,6.66,6.53,5.2,1.91,5.65,5.49,4.73,1.78,6.34,4.77,8.93,4.32,7.0,5.12,6.31,4.17,4.77,4.63,4.14,5.68],\"y\":[8.45,8.82,9.7,10.5,8.93,8.85,9.07,8.39,9.39,8.69,6.97,9.33,7.42,9.44,9.68,7.6,8.48,9.58,8.64,7.04,7.61,7.94,10.3,9.33,8.33,10.2,7.76,9.08,9.86,9.29,8.65,8.01,10.6,7.87,10.1,9.23,7.28,8.39,9.25,9.11,7.56,9.51,9.18,9.23,8.19,7.69,10.0,9.06,8.7,8.35,10.3,8.2,8.42,9.75,11.0,9.75,10.7,8.84,8.8,9.07,8.85,9.11,8.34,8.58,9.64,8.56,8.29],\"mode\":\"markers\",\"marker\":{\"color\":\"red\"},\"name\":\"Class1\"}];\n",
       "            var layout = {\"title\":\"Trunk features\",\"showlegend\":true,\"xaxis\":{\"title\":\"Trunk Girth\",\"_isSubplotObj\":true},\"yaxis\":{\"title\":\"Trunk Height\",\"_isSubplotObj\":true}};\n",
       "            Plotly.newPlot('5ab60bbf-684a-4e6d-a27d-3b04ef66f871', data, layout);\n",
       "        });\r\n",
       "};\r\n",
       "if ((typeof(requirejs) !==  typeof(Function)) || (typeof(requirejs.config) !== typeof(Function))) { \r\n",
       "    var script = document.createElement(\"script\"); \r\n",
       "    script.setAttribute(\"src\", \"https://cdnjs.cloudflare.com/ajax/libs/require.js/2.3.6/require.min.js\"); \r\n",
       "    script.onload = function(){\r\n",
       "        renderPlotly();\r\n",
       "    };\r\n",
       "    document.getElementsByTagName(\"head\")[0].appendChild(script); \r\n",
       "}\r\n",
       "else {\r\n",
       "    renderPlotly();\r\n",
       "}\r\n",
       "</script>"
      ]
     },
     "metadata": {},
     "output_type": "display_data"
    }
   ],
   "source": [
    "var tchart1 = new Graph.Scatter()\n",
    "    {\n",
    "        x = trunk_girth0,\n",
    "        y = trunk_height0,\n",
    "        mode = \"markers\",\n",
    "        marker = new Graph.Marker()\n",
    "        {\n",
    "            color = \"blue\",\n",
    "        }\n",
    "    };\n",
    "\n",
    "var tchart2 = new Graph.Scatter()\n",
    "    {\n",
    "        x = trunk_girth1,\n",
    "        y = trunk_height1,\n",
    "        mode = \"markers\",\n",
    "        marker = new Graph.Marker()\n",
    "        {\n",
    "            color = \"red\",\n",
    "        }\n",
    "    };\n",
    "var tchart = Chart.Plot(new[] {tchart1, tchart2});\n",
    "\n",
    "var layout = new Layout.Layout(){title=\"Trunk features\"};\n",
    "tchart.WithLayout(layout);\n",
    "tchart.WithXTitle(\"Trunk Girth\");\n",
    "tchart.WithYTitle(\"Trunk Height\");\n",
    "tchart.WithLabels(new[]{\"Class 0\", \"Class1\"});\n",
    "tchart.WithLegend(true);\n",
    "tchart.Width = 700;\n",
    "tchart.Height = 500;\n",
    "\n",
    "/*\n",
    " REPLACE <PrintDataHere> WITH display(tchart);\n",
    "*/\n",
    "<PrintDataHere>\n",
    "//"
   ]
  },
  {
   "cell_type": "markdown",
   "metadata": {},
   "source": [
    "## Step 3 - Building a SVM model and running a prediction\n",
    "\n",
    "Let's make a support vector machine. SVMs are a family algorithm for classification, regression, transduction, novelty detection and semi-supervised learning. The syntax for a support vector machine is composed by features and lables. Your features set will be called trainX and your labels set will be called trainY."
   ]
  },
  {
   "cell_type": "markdown",
   "metadata": {},
   "source": [
    "Let's first the following code to create a pipeline. In this case we are creating a pipeline using the LinearSupportVectorMachines trainer and we are only going to use the leaf features."
   ]
  },
  {
   "cell_type": "markdown",
   "metadata": {},
   "source": [
    "In the cell below replace the text `<ConcatenateHere>` with **\"Features\", \"LeafWidth\", \"LeafLength\", \"TrunkGirth\", \"TrunkHeight\"**"
   ]
  },
  {
   "cell_type": "code",
   "execution_count": 10,
   "metadata": {},
   "outputs": [],
   "source": [
    "// Specify the support vector machine trainer\n",
    "var pipeline = \n",
    "/*\n",
    " REPLACE <ConcatenateHere> WITH \"Features\", \"LeafWidth\", \"LeafLength\", \"TrunkGirth\", \"TrunkHeight\"\n",
    "*/\n",
    "    mlContext.Transforms.Concatenate(<ConcatenateHere>)\n",
    "//    \n",
    "    mlContext.Transforms.Concatenate(\"Features\", \"LeafWidth\", \"LeafLength\", \"TrunkGirth\", \"TrunkHeight\")\n",
    "    .Append(mlContext.BinaryClassification.Trainers.LinearSvm());"
   ]
  },
  {
   "cell_type": "markdown",
   "metadata": {},
   "source": [
    "The next step is to train our model by passing our training data to the method Fit"
   ]
  },
  {
   "cell_type": "code",
   "execution_count": 11,
   "metadata": {},
   "outputs": [],
   "source": [
    "// Train the model\n",
    "var model = pipeline.Fit(dataView);"
   ]
  },
  {
   "cell_type": "markdown",
   "metadata": {},
   "source": [
    "Let's use the model to get a prediction using the first two features, the leaf features. In this case we do this by calling the method CreatePredictionEngine to generate our final prediction engine. \n",
    "\n",
    "With that done, we can finally proceed to our prediction."
   ]
  },
  {
   "cell_type": "markdown",
   "metadata": {},
   "source": [
    "In the cell below replace:\n",
    "     `<LeafWidth>`   WITH 5.13E+00f\n",
    "     `<LeafLength>`  WITH 6.18E+00f\n",
    "     `<TrunkGirth>`  WITH 8.26E+00f\n",
    "     `<TrunkHeight>` WITH 8.74E+00f"
   ]
  },
  {
   "cell_type": "code",
   "execution_count": 12,
   "metadata": {},
   "outputs": [
    {
     "name": "stdout",
     "output_type": "stream",
     "text": [
      "*************************************\n",
      "Tree type 1\n",
      "Score: -164,64635\n",
      "Probability: 0\n",
      "*************************************\n"
     ]
    }
   ],
   "source": [
    "// Use the trained model for one-time prediction\n",
    "var predictionEngine = mlContext.Model.CreatePredictionEngine<TreeInput, TreeOutput>(model);\n",
    "\n",
    "// Obtain the prediction\n",
    "var prediction = predictionEngine.Predict(new TreeInput\n",
    "{\n",
    "// Features to include in the prediction\n",
    "/*\n",
    " REPLACE <LeafWidth>   WITH 5.13E+00f\n",
    " REPLACE <LeafLength>  WITH 6.18E+00f\n",
    " REPLACE <TrunkGirth>  WITH 8.26E+00f\n",
    " REPLACE <TrunkHeight> WITH 8.74E+00f\n",
    "*/\n",
    "    LeafWidth = <LeafWidth>,\n",
    "    LeafLength = <LeafLength>,\n",
    "    TrunkGirth = <TrunkGirth>,\n",
    "    TrunkHeight = <TrunkHeight>\n",
    "// \n",
    "});\n",
    "\n",
    "Console.WriteLine($\"*************************************\");\n",
    "Console.WriteLine(\"Tree type {0}\", prediction.TreeType ? \"0\" : \"1\");\n",
    "Console.WriteLine($\"Score: {prediction.Score}\");\n",
    "Console.WriteLine($\"Probability: {prediction.Probability}\");\n",
    "Console.WriteLine($\"*************************************\");"
   ]
  },
  {
   "cell_type": "markdown",
   "metadata": {},
   "source": [
    "## Conclusion\n",
    "\n",
    "And that's it! You've made a simple support vector machine that can predict the type of tree based on the leaf and trunk measurements!"
   ]
  }
 ],
 "metadata": {
  "kernelspec": {
   "display_name": ".NET (C#)",
   "language": "C#",
   "name": ".net-csharp"
  },
  "language_info": {
   "file_extension": ".cs",
   "mimetype": "text/x-csharp",
   "name": "C#",
   "pygments_lexer": "csharp",
   "version": "8.0"
  }
 },
 "nbformat": 4,
 "nbformat_minor": 4
}
