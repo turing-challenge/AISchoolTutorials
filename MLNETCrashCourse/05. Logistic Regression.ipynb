{
 "cells": [
  {
   "cell_type": "markdown",
   "metadata": {},
   "source": [
    "# Logistic Regression\n",
    "\n",
    "Logistic regression predicts binary (yes/no) events. For example, we may want to predict if someone will arrive at work on time, or if a person shopping will buy a product.\n",
    "\n",
    "This exercise will demonstrate simple logistic regression: predicting an outcome from only one feature."
   ]
  },
  {
   "cell_type": "markdown",
   "metadata": {},
   "source": [
    "## Step 1 - Import NuGet packages\n",
    "\n",
    "Necessary NuGet packages can easily be imported to use it in a Jupyter Notebook using the following code. In this case we will need Microsot.ML and Xplot.Plotly for the graphics."
   ]
  },
  {
   "cell_type": "code",
   "execution_count": null,
   "metadata": {},
   "outputs": [],
   "source": [
    "// ML.NET Nuget packages installation\n",
    "#r \"nuget:Microsoft.ML,1.4\"\n",
    "    \n",
    "//Install XPlot package\n",
    "#r \"nuget:XPlot.Plotly,2.0.0\"\n",
    "\n",
    "using Microsoft.ML;\n",
    "using Microsoft.ML.Data;\n",
    "using Microsoft.ML.Trainers;\n",
    "using XPlot.Plotly;"
   ]
  },
  {
   "cell_type": "markdown",
   "metadata": {},
   "source": [
    "## Step 2 - Storing the data"
   ]
  },
  {
   "cell_type": "markdown",
   "metadata": {},
   "source": [
    "First of all, we 're going to define some basic auxiliary class and functions."
   ]
  },
  {
   "cell_type": "code",
   "execution_count": null,
   "metadata": {},
   "outputs": [],
   "source": [
    "public static double Sigmoid(double x)\n",
    "{\n",
    "    return 1 / (1 + Math.Exp(-x));\n",
    "}"
   ]
  },
  {
   "cell_type": "code",
   "execution_count": null,
   "metadata": {},
   "outputs": [],
   "source": [
    "public class PlotChartPoint\n",
    "{\n",
    "    public double X { get; set; }\n",
    "\n",
    "    public double Y { get; set; }\n",
    "}"
   ]
  },
  {
   "cell_type": "code",
   "execution_count": null,
   "metadata": {},
   "outputs": [],
   "source": [
    "public static IEnumerable<PlotChartPoint> GetAvgChartPointsFromData(IEnumerable<double> x, IEnumerable<double> y)\n",
    "{\n",
    "    var points = new List<PlotChartPoint>();\n",
    "    for (int i = 0; i < x.Count(); i++)\n",
    "    {\n",
    "        points.Add(new PlotChartPoint()\n",
    "        {\n",
    "            X = x.ElementAt(i),\n",
    "            Y = y.ElementAt(i)\n",
    "        });\n",
    "    }\n",
    "\n",
    "    return points;\n",
    "}"
   ]
  },
  {
   "cell_type": "markdown",
   "metadata": {},
   "source": [
    "You will also need to create a class suited to store the information you have. Once this is done, you can load structured information into this class and verify  it by showing the schema and some rows of the DataView."
   ]
  },
  {
   "cell_type": "code",
   "execution_count": null,
   "metadata": {},
   "outputs": [],
   "source": [
    "public class FootballInput\n",
    "{\n",
    "    [LoadColumn(0)]\n",
    "    [ColumnName(\"AverageGoalsPerMatch\")]\n",
    "    public float AverageGoalsPerMatch { get; set; }\n",
    "\n",
    "    [LoadColumn(1)]\n",
    "    [ColumnName(\"WonCompetition\")]\n",
    "    public bool WonCompetition { get; set; }\n",
    "}\n",
    "\n",
    "public class FootballOutput\n",
    "{\n",
    "    [ColumnName(\"Score\")]\n",
    "    public float WonCompetition { get; set; }\n",
    "}"
   ]
  },
  {
   "cell_type": "code",
   "execution_count": null,
   "metadata": {},
   "outputs": [],
   "source": [
    "string TrainDataPath = \"./Data/football-data.txt\";\n",
    "\n",
    "MLContext mlContext = new MLContext(seed:0);\n",
    "IDataView dataView = mlContext.Data.LoadFromTextFile<FootballInput>(path: TrainDataPath, hasHeader: true, separatorChar:'\\t');\n",
    "\n",
    "display(dataView.Schema);"
   ]
  },
  {
   "cell_type": "markdown",
   "metadata": {},
   "source": [
    "In the cell below replace the text `<printDataHere>` with display(fewRows); and then press Run in the toolbar above (or press Shift+Enter)."
   ]
  },
  {
   "cell_type": "code",
   "execution_count": null,
   "metadata": {},
   "outputs": [],
   "source": [
    "public static List<FootballInput> Head(MLContext mlContext, IDataView dataView, int numberOfRows = 4)\n",
    "{\n",
    "    string msg = string.Format(\"DataView: Showing {0} rows with the columns\", numberOfRows.ToString());\n",
    "    display(msg);\n",
    "          \n",
    "    var rows = mlContext.Data.CreateEnumerable<FootballInput>(dataView, reuseRowObject: false)\n",
    "                    .Take(numberOfRows)\n",
    "                    .ToList();\n",
    "    \n",
    "    return rows;\n",
    "}\n",
    "\n",
    "display(h4(\"Showing a few rows from training DataView:\"));\n",
    "\n",
    "var fewRows = Head(mlContext, dataView, 10);\n",
    "\n",
    "/*\n",
    " REPLACE <PrintDataHere> WITH display(fewRows);\n",
    "*/\n",
    "<PrintDataHere>\n",
    "//"
   ]
  },
  {
   "cell_type": "markdown",
   "metadata": {},
   "source": [
    "## Step 3 - Visualize Data\n",
    "\n",
    "Let's graph the data so we have a better idea of what's going on here. Complete the exercise below to make an x-y scatter plot.\n",
    "\n",
    "The following chart will show us the distribution of victories according to the number of average goals."
   ]
  },
  {
   "cell_type": "code",
   "execution_count": null,
   "metadata": {},
   "outputs": [],
   "source": [
    "int numberOfRows = 100;\n",
    "float[] goals = dataView.GetColumn<float>(\"AverageGoalsPerMatch\").Take(numberOfRows).ToArray();\n",
    "bool[] won = dataView.GetColumn<bool>(\"WonCompetition\").Take(numberOfRows).ToArray();\n",
    "float[] won_float = won.Select(x => Convert.ToSingle(x)).ToArray();"
   ]
  },
  {
   "cell_type": "markdown",
   "metadata": {},
   "source": [
    "Then, we set the chart and the layout options and display the result."
   ]
  },
  {
   "cell_type": "markdown",
   "metadata": {},
   "source": [
    "In the cell below replace the text `<printDataHere>` with display(chart);"
   ]
  },
  {
   "cell_type": "code",
   "execution_count": null,
   "metadata": {},
   "outputs": [],
   "source": [
    "var chart = Chart.Plot(\n",
    "    new Graph.Scatter()\n",
    "    {\n",
    "        x = goals,\n",
    "        y = won_float,\n",
    "        mode = \"markers\",\n",
    "        marker = new Graph.Marker()\n",
    "        {\n",
    "            color = won_float,\n",
    "            colorscale = \"Jet\"\n",
    "        }\n",
    "    }\n",
    ");\n",
    "\n",
    "var layout = new Layout.Layout(){title=\"Average goals vs competition won\"};\n",
    "chart.WithLayout(layout);\n",
    "chart.WithXTitle(\"Average goals per Match\");\n",
    "chart.WithYTitle(\"Competition won\");\n",
    "chart.WithLabels(new[]{\"Goals\"});\n",
    "chart.Width = 700;\n",
    "chart.Height = 500;\n",
    "chart.WithLegend(true);\n",
    "\n",
    "/*\n",
    " REPLACE <PrintDataHere> WITH display(chart);\n",
    "*/\n",
    "<PrintDataHere>\n",
    "//"
   ]
  },
  {
   "cell_type": "markdown",
   "metadata": {},
   "source": [
    "## Step 4 -Building a model and running a prediction\n",
    "\n",
    "How can we predict whether the team will win this season? Let's apply AI to this problem, by making a logisitic regression model using this data and then graph it. This will tell us whether we will likely win this season."
   ]
  },
  {
   "cell_type": "markdown",
   "metadata": {},
   "source": [
    "The first thing you will need to do is to create a pipeline. In this case we are creating a pipeline using the LogisticRegression algorithm, a well-known statistical method for determining the contribution of multiple factors to a pair of outcomes"
   ]
  },
  {
   "cell_type": "code",
   "execution_count": null,
   "metadata": {},
   "outputs": [],
   "source": [
    "var pipeline =\n",
    "    mlContext.Transforms.Concatenate(\"Features\", \"AverageGoalsPerMatch\")\n",
    "    .Append(mlContext.BinaryClassification.Trainers.LbfgsLogisticRegression(\"WonCompetition\"));"
   ]
  },
  {
   "cell_type": "markdown",
   "metadata": {},
   "source": [
    "The next step is to train our model by passing our training data to the method Fit."
   ]
  },
  {
   "cell_type": "code",
   "execution_count": null,
   "metadata": {},
   "outputs": [],
   "source": [
    "// Train the model\n",
    "var model = pipeline.Fit(dataView);"
   ]
  },
  {
   "cell_type": "markdown",
   "metadata": {},
   "source": [
    "Use the model to work out the loss."
   ]
  },
  {
   "cell_type": "code",
   "execution_count": null,
   "metadata": {},
   "outputs": [],
   "source": [
    "// View training stats\n",
    "var linearModel = model.LastTransformer.Model.SubModel as LinearBinaryModelParameters;\n",
    "\n",
    "// This works out the loss\n",
    "var coefficient = linearModel.Weights.FirstOrDefault();\n",
    "var intercept = linearModel.Bias;\n",
    "var step = 3 / (double)300;\n",
    "var testX = Enumerable.Range((int)0, 300).Select(v => (v * step) + 0).ToList();\n",
    "var loss = new List<double>();\n",
    "foreach (var x in testX)\n",
    "{\n",
    "    loss.Add(Sigmoid(x * coefficient + intercept));\n",
    "}\n",
    "\n",
    "// Get an array of the average data points\n",
    "var lossPoints = GetAvgChartPointsFromData(testX, loss);\n",
    "var X = lossPoints.Select(PlotChartPoint => PlotChartPoint.X);\n",
    "var Y = lossPoints.Select(PlotChartPoint => PlotChartPoint.Y);"
   ]
  },
  {
   "cell_type": "markdown",
   "metadata": {},
   "source": [
    "Now we can see graphically the regression line obtained by the  model, which will show us the probability of winning a competition according to the average goals."
   ]
  },
  {
   "cell_type": "markdown",
   "metadata": {},
   "source": [
    "In the cell below replace the text `<printDataHere>` with display(chart);"
   ]
  },
  {
   "cell_type": "code",
   "execution_count": null,
   "metadata": {},
   "outputs": [],
   "source": [
    "// Define grapgh for the line \n",
    "\n",
    "var lineGraph= new Graph.Scatter()\n",
    "    {\n",
    "        x = X.ToList(),\n",
    "        y = Y.ToList(),\n",
    "        mode = \"lines\",\n",
    "        line = new Graph.Line(){color = \"black\"}\n",
    "    };\n",
    "\n",
    "var pointsGraph = new Graph.Scatter()\n",
    "    {\n",
    "        x = goals,\n",
    "        y = won_float,\n",
    "        mode = \"markers\",\n",
    "        marker = new Graph.Marker()\n",
    "        {\n",
    "            color = won_float,\n",
    "            colorscale = \"Jet\"\n",
    "        }\n",
    "    };\n",
    "\n",
    "var regressionLine = Chart.Plot(new []{pointsGraph,lineGraph});\n",
    "\n",
    "var layout = new Layout.Layout(){title=\"Competition Win Likelihood\"};\n",
    "chart.WithLayout(layout);\n",
    "chart.WithXTitle(\"Average goals per Match\");\n",
    "chart.WithYTitle(\"Competition won\");\n",
    "chart.WithLabels(new[]{\"Goals\",\"Win Likelihood\"});\n",
    "chart.WithLegend(true);\n",
    "chart.Width = 700;\n",
    "chart.Height = 500;\n",
    "\n",
    "/*\n",
    " REPLACE <PrintDataHere> WITH display(chart);\n",
    "*/\n",
    "<regressionLine>\n",
    "//"
   ]
  },
  {
   "cell_type": "markdown",
   "metadata": {},
   "source": [
    "## Step 5 - Try a single prediction"
   ]
  },
  {
   "cell_type": "markdown",
   "metadata": {},
   "source": [
    "We can read the model above like so:\n",
    "\n",
    "<ul>\n",
    "<li>Take the average number of goals per match for the current year. Let's say it is 2.5.\n",
    "<li>Find 2.5 on the x-axis.\n",
    "<li>What value (on the y axis) does the line have at x=2.5?\n",
    "<li>If this value is above 0.5, then the model thinks our team will win this year. If it is less than 0.5, it thinks our team will lose.\n",
    "<li>Because this line is just a mathematical function (equation) we don't have to do this visually.\n",
    "</ul>\n",
    "\n",
    "In the exercise below, <b>choose the number of goals you want to evaluate</b>.\n",
    "\n",
    "The code will calculate the probability that our team will win with your chosen number of goals in the match."
   ]
  },
  {
   "cell_type": "markdown",
   "metadata": {},
   "source": [
    "In the cell below replace the text `<GoalsPerMatch>` with 2.422870462f"
   ]
  },
  {
   "cell_type": "code",
   "execution_count": null,
   "metadata": {},
   "outputs": [],
   "source": [
    "// Use the trained model for one-time prediction\n",
    "var predictionEngine = mlContext.Model.CreatePredictionEngine<FootballInput, FootballOutput>(model);\n",
    "\n",
    "// Features to include in the prediction\n",
    "/*\n",
    " REPLACE <GoalsPerMatch> WITH 2.422870462f\n",
    "*/\n",
    "var goalsPerMatch =  <GoalsPerMatch>;\n",
    "//    \n",
    "\n",
    "var prediction = predictionEngine.Predict(new FootballInput\n",
    "{\n",
    "    AverageGoalsPerMatch = goalsPerMatch\n",
    "});\n",
    "\n",
    "Console.WriteLine($\"*************************************\");\n",
    "Console.WriteLine($\"Probability of winning this year: { prediction.WonCompetition * 100 }%\");\n",
    "Console.WriteLine($\"*************************************\");"
   ]
  }
 ],
 "metadata": {
  "kernelspec": {
   "display_name": ".NET (C#)",
   "language": "C#",
   "name": ".net-csharp"
  },
  "language_info": {
   "file_extension": ".cs",
   "mimetype": "text/x-csharp",
   "name": "C#",
   "pygments_lexer": "csharp",
   "version": "8.0"
  }
 },
 "nbformat": 4,
 "nbformat_minor": 4
}
